{
 "cells": [
  {
   "cell_type": "code",
   "execution_count": 6,
   "id": "cbf8bfb2-68dc-4c3a-a45e-287a75c73b52",
   "metadata": {},
   "outputs": [
    {
     "data": {
      "text/html": [
       "<style>\n",
       "  table {margin-left: 0 !important;}\n",
       "</style>\n"
      ],
      "text/plain": [
       "<IPython.core.display.HTML object>"
      ]
     },
     "metadata": {},
     "output_type": "display_data"
    }
   ],
   "source": [
    "%%html\n",
    "<style>\n",
    "  table {margin-left: 0 !important;}\n",
    "</style>"
   ]
  },
  {
   "cell_type": "code",
   "execution_count": 62,
   "id": "03c11606-a849-4ec7-a8a8-49dbc6beaccd",
   "metadata": {
    "collapsed": true,
    "jupyter": {
     "outputs_hidden": true
    },
    "scrolled": true
   },
   "outputs": [
    {
     "name": "stdout",
     "output_type": "stream",
     "text": [
      "Requirement already satisfied: matplotlib in ./.venv/lib/python3.12/site-packages (3.9.2)\n",
      "Requirement already satisfied: numpy in ./.venv/lib/python3.12/site-packages (2.1.2)\n",
      "Requirement already satisfied: contourpy>=1.0.1 in ./.venv/lib/python3.12/site-packages (from matplotlib) (1.3.0)\n",
      "Requirement already satisfied: cycler>=0.10 in ./.venv/lib/python3.12/site-packages (from matplotlib) (0.12.1)\n",
      "Requirement already satisfied: fonttools>=4.22.0 in ./.venv/lib/python3.12/site-packages (from matplotlib) (4.54.1)\n",
      "Requirement already satisfied: kiwisolver>=1.3.1 in ./.venv/lib/python3.12/site-packages (from matplotlib) (1.4.7)\n",
      "Requirement already satisfied: packaging>=20.0 in ./.venv/lib/python3.12/site-packages (from matplotlib) (24.1)\n",
      "Requirement already satisfied: pillow>=8 in ./.venv/lib/python3.12/site-packages (from matplotlib) (11.0.0)\n",
      "Requirement already satisfied: pyparsing>=2.3.1 in ./.venv/lib/python3.12/site-packages (from matplotlib) (3.2.0)\n",
      "Requirement already satisfied: python-dateutil>=2.7 in ./.venv/lib/python3.12/site-packages (from matplotlib) (2.9.0.post0)\n",
      "Requirement already satisfied: six>=1.5 in ./.venv/lib/python3.12/site-packages (from python-dateutil>=2.7->matplotlib) (1.16.0)\n",
      "Note: you may need to restart the kernel to use updated packages.\n"
     ]
    }
   ],
   "source": [
    "%pip install matplotlib numpy"
   ]
  },
  {
   "cell_type": "code",
   "execution_count": 63,
   "id": "ffe1e9f4-1de3-4bab-b423-64314c43107d",
   "metadata": {},
   "outputs": [],
   "source": [
    "import matplotlib.pyplot as plt\n",
    "import numpy as np"
   ]
  },
  {
   "cell_type": "markdown",
   "id": "51302be7-0674-4ced-8207-8d8ac4f8ad6e",
   "metadata": {},
   "source": [
    "## An Example Carnot Cycle"
   ]
  },
  {
   "cell_type": "markdown",
   "id": "85099b85-7d54-4758-96f5-5f43f3938a6b",
   "metadata": {},
   "source": [
    "Using the *ideal gas law*, the Carnot cycle (heat pump) has four P/V (pressure/volume) states:\n",
    "\n",
    "a. $P_a$, $V_a$, $T_{hot}$ and $n$\n",
    "\n",
    "b. $P_b$, $V_b$, $T_{hot}$ and $n$\n",
    "\n",
    "c. $P_c$, $V_c$, $T_{cold}$ and $n$\n",
    "\n",
    "d. $P_d$, $V_d$, $T_{cold}$ and $n$"
   ]
  },
  {
   "cell_type": "markdown",
   "id": "82f55524-4310-4eac-8685-f211efdee2a4",
   "metadata": {},
   "source": [
    "The transitions between states have the following thermodynamic relations:\n",
    "\n",
    "1. A **hot** **reversible** and **isothermal** expansion (*points a -> b*).\n",
    "\n",
    "    |                                             |                                               |\n",
    "    |---------------------------------------------|-----------------------------------------------|\n",
    "    | $\\Delta U = q + w = 0$                      | (isothermal)                                  |\n",
    "    | $q_{rev} = - w_{rev}$                       | (isothermal)                                  |\n",
    "    | $w_{rev} = -nRT_{hot} \\ln \\tfrac{V_f}{V_i}$ | (isothermal reversible expansion/compression) |\n",
    "\n",
    "2. An **adiabatic** **reversible** cooling (*points b->c*)\n",
    "\n",
    "    |                           |                               |\n",
    "    |---------------------------|-------------------------------|\n",
    "    | $q = 0$                   | (adiabatic)                   |\n",
    "    | $\\Delta U = C_v \\Delta T$ | (state function--always true) |\n",
    "    | $\\Delta U = w$            | (adiabatic)                   |\n",
    "\n",
    "3. A **cold** **reversible** and **isothermal** compression (*points c->d*)\n",
    "\n",
    "    |                                             |                                               |\n",
    "    |---------------------------------------------|-----------------------------------------------|\n",
    "    | $\\Delta U = q + w = 0$                      | (isothermal)                                  |\n",
    "    | $q_{rev} = - w_{rev}$                       | (isothermal)                                  |\n",
    "    | $w_{rev} = -nRT_{cold} \\ln \\tfrac{V_f}{V_i}$ | (isothermal reversible expansion/compression) |\n",
    "\n",
    "4. An **adiabatic** **reversible** heating (*points d->a*)\n",
    "\n",
    "    |                           |                               |\n",
    "    |---------------------------|-------------------------------|\n",
    "    | $q = 0$                   | (adiabatic)                   |\n",
    "    | $\\Delta U = C_v \\Delta T$ | (state function--always true) |\n",
    "    | $\\Delta U = w$            | (adiabatic)                   |\n"
   ]
  },
  {
   "cell_type": "markdown",
   "id": "91bf625c-95cb-43ca-adf1-685b2e8882aa",
   "metadata": {},
   "source": [
    "### Initial Conditions"
   ]
  },
  {
   "cell_type": "markdown",
   "id": "732463f9-8f12-48dd-b813-99f6e7594a85",
   "metadata": {},
   "source": [
    "For an example Carnot cycle, we choose the initial values of $n$, $T_{hot}$, $T_{cold}$, $V_a$, $V_b$."
   ]
  },
  {
   "cell_type": "code",
   "execution_count": 9,
   "id": "ba11e0b6-e9a0-41d8-984f-fb5eb08dbb9a",
   "metadata": {},
   "outputs": [],
   "source": [
    "n = 1.00  # moles\n",
    "Thot = 498  # Kelvin\n",
    "Tcold = 98  # Kelvin\n",
    "Va = 1.0  # liter\n",
    "Vb = 10.0  # liter\n",
    "R = 0.08314  # L bar mol^-1 K^-1"
   ]
  },
  {
   "cell_type": "markdown",
   "id": "f0d365d2-108e-49dd-aadd-4ed0e17c9a0e",
   "metadata": {},
   "source": [
    "Additionally, we will need the heat capacity ratio ($\\gamma$), which is constructed from the specific heat capacity at constant volume ($C_v$) and the specific heat capacity at constant pressure ($C_p$).\n",
    "\n",
    "$\\gamma = C_p / C_v $\n",
    "\n",
    "For an ideal gas, $C_v = \\tfrac{3}{2} R$ and $C_p = \\tfrac{5}{2} R$, where $R$ is the ideal gas constant."
   ]
  },
  {
   "cell_type": "code",
   "execution_count": 16,
   "id": "63e026e7-e08d-43e7-9d09-38d4d69a9170",
   "metadata": {},
   "outputs": [
    {
     "name": "stdout",
     "output_type": "stream",
     "text": [
      "gamma = 13.857 J mol^-1 K^-1\n"
     ]
    }
   ],
   "source": [
    "gamma = (5./ 3.) * 8.314  # J mol^-1 K^-1\n",
    "\n",
    "print(f\"gamma = {gamma:.3f} J mol^-1 K^-1\")"
   ]
  },
  {
   "cell_type": "markdown",
   "id": "b3fd5dea-f426-46ce-a5dd-1b72de4c63f4",
   "metadata": {},
   "source": [
    "The pressures $P_a$ and $P_b$ are calculated using the ideal gas law."
   ]
  },
  {
   "cell_type": "code",
   "execution_count": 17,
   "id": "211fe8fb-4674-40fa-967f-b4bd178590a4",
   "metadata": {},
   "outputs": [
    {
     "name": "stdout",
     "output_type": "stream",
     "text": [
      "Pa = 41.4 bar\n",
      "Pb = 4.14 bar\n"
     ]
    }
   ],
   "source": [
    "Pa = n * R * Thot / Va\n",
    "Pb = n * R * Thot / Vb\n",
    "\n",
    "print(f\"Pa = {Pa:.1f} bar\")\n",
    "print(f\"Pb = {Pb:.2f} bar\")"
   ]
  },
  {
   "cell_type": "markdown",
   "id": "39333676-f40d-4756-9af4-073e3d1621ef",
   "metadata": {},
   "source": [
    "The pressure $P_c$ and volume $V_c$ are calculated from an adiabatic expansion, where the coefficient $ \\gamma = C_p / C_v$:\n",
    "\n",
    "$P_b V_b^\\gamma = P_c V_c^\\gamma$\n",
    "\n",
    "However, the above equation has 2 unknowns ($P_c$ and $V_c$). Instead, we can frame this equation in terms of the $T_{hot}$ and $T_{cold}$ using the ideal gas law.\n",
    "\n",
    "$\\left(\\frac{n R T_{hot}}{V_b} \\right) V_b^\\gamma = \\left(\\frac{n R T_{cold}}{V_c} \\right) V_c^\\gamma $\n",
    "\n",
    "$ T_{hot} V_b^{\\gamma -1} = T_{cold} V_c^{\\gamma - 1}$\n",
    "\n",
    "$ V_c = \\left( \\frac{T_{hot}}{T_{cold}} V_b^{\\gamma - 1} \\right)^\\frac{1}{\\gamma-1}$"
   ]
  },
  {
   "cell_type": "code",
   "execution_count": 18,
   "id": "50e157b0-16ff-44c1-8b2e-9d7cab6fcc37",
   "metadata": {},
   "outputs": [
    {
     "name": "stdout",
     "output_type": "stream",
     "text": [
      "Vc = 11.3 liter\n"
     ]
    }
   ],
   "source": [
    "Vc = ((Thot / Tcold) * Vb**(gamma - 1.)) ** (1./(gamma - 1.))\n",
    "\n",
    "print(f\"Vc = {Vc:.1f} liter\")"
   ]
  },
  {
   "cell_type": "markdown",
   "id": "6dd1feaf-0506-495c-8278-75dc05d470e6",
   "metadata": {},
   "source": [
    "Therafter, the pressure $P_c$ is calculated using the ideal gas law."
   ]
  },
  {
   "cell_type": "code",
   "execution_count": 19,
   "id": "d1b7b5b9-5bd3-4e23-842c-d95eb67edbba",
   "metadata": {},
   "outputs": [
    {
     "name": "stdout",
     "output_type": "stream",
     "text": [
      "Pc = 0.72 bar\n"
     ]
    }
   ],
   "source": [
    "Pc = n * R * Tcold / Vc\n",
    "\n",
    "print(f\"Pc = {Pc:.2f} bar\")"
   ]
  },
  {
   "cell_type": "markdown",
   "id": "d4ee4c23-9ef3-43c8-bb27-d8252f331456",
   "metadata": {},
   "source": [
    "Likewise, the volume $V_d$ and pressure $P_d$ are calculated from an adiabatic expansion from $P_a$, $V_a$ and $T_{hot}$."
   ]
  },
  {
   "cell_type": "code",
   "execution_count": 24,
   "id": "981208e1-1c63-4277-9362-53e35fe750b5",
   "metadata": {},
   "outputs": [
    {
     "name": "stdout",
     "output_type": "stream",
     "text": [
      "Vd = 1.13 liters\n"
     ]
    }
   ],
   "source": [
    "Vd = ((Thot / Tcold) * Va**(gamma - 1.)) ** (1./(gamma - 1.))\n",
    "\n",
    "print(f\"Vd = {Vd:.2f} liters\")"
   ]
  },
  {
   "cell_type": "code",
   "execution_count": 104,
   "id": "78bf34aa-a57b-435e-8acd-1bf88fbda57e",
   "metadata": {},
   "outputs": [
    {
     "name": "stdout",
     "output_type": "stream",
     "text": [
      "Pd = 7.2 bar\n"
     ]
    }
   ],
   "source": [
    "Pd = n * R * Tcold / Vd\n",
    "\n",
    "print(f\"Pd = {Pd:.1f} bar\")"
   ]
  },
  {
   "cell_type": "markdown",
   "id": "168ef758-3e74-4512-b5ea-76b2a3c7ee9f",
   "metadata": {},
   "source": [
    "We not have the n, R, T, V and P parameters for all four states (a, b, c, d):"
   ]
  },
  {
   "cell_type": "code",
   "execution_count": 105,
   "id": "2ae94cdf-51b9-42d1-bc0c-20025b86f9dd",
   "metadata": {},
   "outputs": [
    {
     "name": "stdout",
     "output_type": "stream",
     "text": [
      " state  | moles    | pressure     | volume      | temperature\n",
      "--------------------------------------------------------------\n",
      " a      | 1.00 mol |    41.40 bar |  1.00 liter | 498.0 K\n",
      " b      | 1.00 mol |     4.14 bar | 10.00 liter | 498.0 K\n",
      " c      | 1.00 mol |     0.72 bar | 11.35 liter |  98.0 K\n",
      " d      | 1.00 mol |     7.18 bar |  1.13 liter |  98.0 K\n"
     ]
    }
   ],
   "source": [
    "states = {\n",
    "    \"a\": (n, Pa, Va, Thot),\n",
    "    \"b\": (n, Pb, Vb, Thot),\n",
    "    \"c\": (n, Pc, Vc, Tcold),\n",
    "    \"d\": (n, Pd, Vd, Tcold)\n",
    "}\n",
    "\n",
    "print(\" state\" + \" \"*2 + \"|\"\n",
    "      \" moles\" + \" \" *4 + \"|\"\n",
    "      \" pressure\" + \" \"*5 + \"|\"\n",
    "      \" volume\" + \" \"*6 + \"|\"\n",
    "      \" temperature\")\n",
    "print(\"-\" * 62)\n",
    "\n",
    "for state, (n, P, V, T) in states.items():\n",
    "    print(f\" {state:<6} | {n:4.2f} mol | {P:8.2f} bar | {V:5.2f} liter | {T:5.1f} K\")"
   ]
  },
  {
   "cell_type": "markdown",
   "id": "c1eb4e4c-39c5-48f6-b028-4f3b64de04d1",
   "metadata": {},
   "source": [
    "### P-V Plot"
   ]
  },
  {
   "cell_type": "code",
   "execution_count": 110,
   "id": "eadd8a49-b2f6-46f8-be93-db5d0ab41d1e",
   "metadata": {},
   "outputs": [
    {
     "data": {
      "image/png": "[encoded data removed]",
      "text/plain": [
       "<Figure size 640x480 with 1 Axes>"
      ]
     },
     "metadata": {},
     "output_type": "display_data"
    }
   ],
   "source": [
    "N = 256  # number of points\n",
    "\n",
    "# Setup plot\n",
    "plt.xlabel(\"Volume (L)\")\n",
    "plt.xlim((0., Vc*1.35))\n",
    "\n",
    "plt.ylabel(\"Pressure (bar)\")\n",
    "plt.ylim((0., Pa*1.10))\n",
    "\n",
    "# Transition a->b\n",
    "Vab = np.linspace(Va, Vb, N)\n",
    "Pab = n * R * Thot / Vab  # P = nRT / V\n",
    "plt.plot(Vab, Pab, color='k')\n",
    "plt.annotate(f\"a\\n({Pa:.2f} bar, {Va:.2f} L)\", (Va + 0.3, Pa - 1.5))\n",
    "\n",
    "# Transition b->c\n",
    "Vbc = np.linspace(Vb, Vc, N)\n",
    "Pbc = Pb * (Vb / Vbc) ** gamma  # P = Pi (Vi/V)^gamma\n",
    "plt.plot(Vbc, Pbc, color='k')\n",
    "plt.annotate(f\"b\\n({Pb:.2f} bar, {Vb:.2f} L)\", (Vb - 1., Pb + 2))\n",
    "\n",
    "# Transition c->d\n",
    "Vcd = np.linspace(Vc, Vd, N)\n",
    "Pcd = n * R * Tcold / Vcd  # P = nRT / V\n",
    "plt.plot(Vcd, Pcd, color='k') \n",
    "plt.annotate(f\"c\\n({Pc:.2f} bar, {Vc:.2f} L)\", (Vc + 0.25, Pc + 0))\n",
    "\n",
    "# Transition d->a\n",
    "Vda = np.linspace(Va, Vd, N)\n",
    "Pda = Pa * (Va / Vda) ** gamma  # P = Pi (Vi/V)^gamma\n",
    "plt.plot(Vda, Pda, color='k') \n",
    "plt.annotate(f\"d\\n({Pd:.2f} bar, {Vd:.2f} L)\", (Vd + 0.25, Pd + -.25))\n",
    "\n",
    "plt.show()"
   ]
  },
  {
   "cell_type": "markdown",
   "id": "20d35034-5423-476e-982e-1b38ba0e7af9",
   "metadata": {},
   "source": [
    "### Energy Calculations"
   ]
  },
  {
   "cell_type": "code",
   "execution_count": 164,
   "id": "196fac01-eb4f-4b37-b122-2c4d0d532935",
   "metadata": {},
   "outputs": [],
   "source": [
    "E = dict()\n",
    "\n",
    "# Transition a->b (isothermal, reversible)\n",
    "Ei = E.setdefault(\"ab\", dict())\n",
    "Ei[\"w\"] = n * R * Thot * np.log(Vb/Va)\n",
    "Ei[\"q\"] = -Ei[\"w\"]\n",
    "Ei[\"∆U\"] = 0  # Cv ∆T\n",
    "Ei[\"∆H\"] = 0  # Cp ∆T\n",
    "Ei[\"∆S\"] = Ei[\"q\"]/Thot\n",
    "\n",
    "# Transition b->c (adiabatic)\n",
    "Ei = E.setdefault(\"bc\", dict())\n",
    "Ei[\"∆U\"] = 1.5 * R * (Tcold - Thot)  # Cv ∆T\n",
    "Ei[\"∆H\"] = 2.5 * R * (Tcold - Thot)  # Cp ∆T\n",
    "Ei[\"w\"] = Ei[\"∆U\"]\n",
    "Ei[\"q\"] = 0\n",
    "Ei[\"∆S\"] = 0\n",
    "\n",
    "# Transition c->d (isothermal, reversible)\n",
    "Ei = E.setdefault(\"cd\", dict())\n",
    "Ei[\"w\"] = n * R * Tcold * np.log(Vd/Vc)\n",
    "Ei[\"q\"] = -Ei[\"w\"]\n",
    "Ei[\"∆U\"] = 0  # Cv ∆T\n",
    "Ei[\"∆H\"] = 0  # Cp ∆T\n",
    "Ei[\"∆S\"] = Ei[\"q\"]/Tcold\n",
    "\n",
    "# Transition d->a (adiabatic)\n",
    "Ei = E.setdefault(\"da\", dict())\n",
    "Ei[\"∆U\"] = 1.5 * R * (Thot - Tcold)  # Cv ∆T\n",
    "Ei[\"∆H\"] = 2.5 * R * (Thot - Tcold)  # Cp ∆T\n",
    "Ei[\"w\"] = Ei[\"∆U\"]\n",
    "Ei[\"q\"] = 0\n",
    "Ei[\"∆S\"] = 0"
   ]
  },
  {
   "cell_type": "code",
   "execution_count": 208,
   "id": "a3a75356-f719-4b76-a1bc-53a5f4e22b82",
   "metadata": {},
   "outputs": [
    {
     "name": "stdout",
     "output_type": "stream",
     "text": [
      "Transition     Work (w)   Heat (q)         ∆U         ∆H           ∆S\n",
      "---------------------------------------------------------------------\n",
      "a -> b           95.3 J    -95.3 J      0.0 J      0.0 J   -0.191 J/K\n",
      "b -> c          -49.9 J      0.0 J    -49.9 J    -83.1 J    0.000 J/K\n",
      "c -> d          -18.8 J     18.8 J      0.0 J      0.0 J    0.191 J/K\n",
      "d -> a           49.9 J      0.0 J     49.9 J     83.1 J    0.000 J/K\n",
      "---------------------------------------------------------------------\n",
      "net              76.6 J    -76.6 J      0.0 J      0.0 J    0.000 J/K\n"
     ]
    }
   ],
   "source": [
    "print(\"Transition\".ljust(12) +\n",
    "      \"Work (w)\".rjust(11) +\n",
    "      \"Heat (q)\".rjust(11) +\n",
    "      \"∆U\".rjust(11) +\n",
    "      \"∆H\".rjust(11) +\n",
    "      \"∆S\".rjust(13)\n",
    "     )\n",
    "print(\"-\"*69)\n",
    "wnet = 0.0\n",
    "qnet = 0.0\n",
    "dUnet = 0.0\n",
    "dHnet = 0.0\n",
    "dSnet = 0.0\n",
    "\n",
    "for transition, Ei in E.items():\n",
    "    start, end = transition\n",
    "    wnet += Ei[\"w\"]\n",
    "    qnet += Ei[\"q\"]\n",
    "    dUnet += Ei[\"∆U\"]\n",
    "    dHnet += Ei[\"∆H\"]\n",
    "    dSnet += Ei[\"∆S\"]\n",
    "    \n",
    "    print(f\"{start} -> {end}\".ljust(12) +\n",
    "          f\" {Ei['w']:-8.1f} J\"\n",
    "          f\" {Ei['q']:-8.1f} J\"\n",
    "          f\" {Ei['∆U']:-8.1f} J\"\n",
    "          f\" {Ei['∆H']:-8.1f} J\"\n",
    "          f\" {Ei['∆S']:-8.3f} J/K\"\n",
    "          )\n",
    "\n",
    "print(\"-\"*69)\n",
    "print(f\"net\".ljust(12) +\n",
    "          f\" {wnet:-8.1f} J\"\n",
    "          f\" {qnet:-8.1f} J\"\n",
    "          f\" {dUnet:-8.1f} J\"\n",
    "          f\" {dHnet:-8.1f} J\"\n",
    "          f\" {dSnet:-8.3f} J/K\"\n",
    "          )"
   ]
  }
 ],
 "metadata": {
  "kernelspec": {
   "display_name": "Python 3 (ipykernel)",
   "language": "python",
   "name": "python3"
  },
  "language_info": {
   "codemirror_mode": {
    "name": "ipython",
    "version": 3
   },
   "file_extension": ".py",
   "mimetype": "text/x-python",
   "name": "python",
   "nbconvert_exporter": "python",
   "pygments_lexer": "ipython3",
   "version": "3.12.6"
  }
 },
 "nbformat": 4,
 "nbformat_minor": 5
}
